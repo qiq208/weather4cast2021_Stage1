{
 "cells": [
  {
   "cell_type": "code",
   "execution_count": 1,
   "metadata": {},
   "outputs": [],
   "source": [
    "import glob\n",
    "import h5py\n",
    "import numpy as np\n",
    "from fastai.basics import *\n",
    "from fastai.callback.schedule import fit_one_cycle\n",
    "from fastai.callback.hook import summary\n",
    "from fastai.callback.tracker import SaveModelCallback\n",
    "from fastai.callback.fp16 import *\n",
    "from fastai.data.load import DataLoader as FastDataLoader\n",
    "from fastai.callback.progress import CSVLogger\n",
    "from torch.utils.data import *\n",
    "from collections.abc import Iterable\n",
    "\n",
    "import utils.config as config\n",
    "from utils.w4c_dataloader_aio import create_dataset"
   ]
  },
  {
   "cell_type": "markdown",
   "metadata": {},
   "source": [
    "# Parameters"
   ]
  },
  {
   "cell_type": "code",
   "execution_count": 2,
   "metadata": {},
   "outputs": [],
   "source": [
    "region_ids = ['R1', 'R2', 'R3']\n",
    "bs = 12\n",
    "num_workers = 3\n",
    "device = 'cuda'\n",
    "folder_to_save_models = 'weights'"
   ]
  },
  {
   "cell_type": "markdown",
   "metadata": {},
   "source": [
    "# 1. Initialise Dataset and Dataloaders"
   ]
  },
  {
   "cell_type": "code",
   "execution_count": 3,
   "metadata": {},
   "outputs": [],
   "source": [
    "def get_datasets(region_ids, train_on_validation=False):\n",
    "    if len(region_ids)==1:\n",
    "        params = config.get_params(region_id=region_ids[0])['data_params']\n",
    "        params['return_meta']=False\n",
    "        params['static_path']=\n",
    "        valid = create_dataset('training', params)\n",
    "        if train_on_validation:\n",
    "            train = [create_dataset('training', params), create_dataset('validation', params)]\n",
    "            train = ConcatDataset(train)\n",
    "            train.n_inp = 1\n",
    "        else:\n",
    "            train = create_dataset('training', params)\n",
    "    else:\n",
    "        train=[]\n",
    "        valid=[]\n",
    "        for reg in region_ids:\n",
    "            params = config.get_params(region_id=reg)['data_params']\n",
    "            train.append(create_dataset('training', params))\n",
    "            if train_on_validation:\n",
    "                train.append(create_dataset('validation', params))\n",
    "            valid.append(create_dataset('validation', params))\n",
    "        train = ConcatDataset(train)\n",
    "        train.n_inp = 1\n",
    "        valid = ConcatDataset(valid)\n",
    "        valid.n_inp = 1\n",
    "    return train, valid"
   ]
  },
  {
   "cell_type": "code",
   "execution_count": 4,
   "metadata": {},
   "outputs": [
    {
     "name": "stdout",
     "output_type": "stream",
     "text": [
      "Using data for region R1 | size: 256 | Nile Region\n"
     ]
    }
   ],
   "source": [
    "train, valid = get_datasets(region_ids, train_on_validation=False)"
   ]
  },
  {
   "cell_type": "code",
   "execution_count": 5,
   "metadata": {},
   "outputs": [],
   "source": [
    "train_dl = FastDataLoader(dataset=train,\n",
    "                          bs=bs,\n",
    "                          num_workers=num_workers,\n",
    "                          pin_memory=True,\n",
    "                          shuffle=True,\n",
    "                          device=torch.device(device))\n",
    "valid_dl = FastDataLoader(dataset=valid,\n",
    "                          bs=bs,\n",
    "                          num_workers=num_workers,\n",
    "                          pin_memory=True,\n",
    "                          shuffle=True,\n",
    "                          device=torch.device(device))\n",
    "data = DataLoaders(train_dl, valid_dl, device=torch.device(device))"
   ]
  },
  {
   "cell_type": "markdown",
   "metadata": {},
   "source": [
    "# 2. Load Baseline U-Net"
   ]
  },
  {
   "cell_type": "code",
   "execution_count": 9,
   "metadata": {},
   "outputs": [],
   "source": [
    "from utils.vunet_model import Net1, VUNetLoss2, valid_leaderboard, valid_leaderboard2\n",
    "Model = Net1(in_channels=8*4+3,out_channels=4*32)"
   ]
  },
  {
   "cell_type": "code",
   "execution_count": 10,
   "metadata": {},
   "outputs": [],
   "source": [
    "learn = Learner(data, Model.to(device), loss_func=VUNetLoss2, metrics=[valid_leaderboard, valid_leaderboard2], model_dir=folder_to_save_models, cbs=CSVLogger)"
   ]
  },
  {
   "cell_type": "code",
   "execution_count": 11,
   "metadata": {},
   "outputs": [
    {
     "data": {
      "text/html": [],
      "text/plain": [
       "<IPython.core.display.HTML object>"
      ]
     },
     "metadata": {},
     "output_type": "display_data"
    },
    {
     "name": "stderr",
     "output_type": "stream",
     "text": [
      "/Users/qiqi/miniconda3/envs/w4c/lib/python3.8/site-packages/torch/nn/functional.py:718: UserWarning: Named tensors and all their associated APIs are an experimental feature and subject to change. Please do not use them for anything important until they are released as stable. (Triggered internally at  /Users/distiller/project/conda/conda-bld/pytorch_1623459044803/work/c10/core/TensorImpl.h:1156.)\n",
      "  return torch.max_pool2d(input, kernel_size, stride, padding, dilation, ceil_mode)\n"
     ]
    },
    {
     "data": {
      "text/plain": [
       "Net1 (Input shape: 12)\n",
       "============================================================================\n",
       "Layer (type)         Output Shape         Param #    Trainable \n",
       "============================================================================\n",
       "                     12 x 64 x 256 x 256 \n",
       "Conv2d                                    20224      True      \n",
       "ELU                                                            \n",
       "GroupNorm                                 128        True      \n",
       "Dropout2d                                                      \n",
       "____________________________________________________________________________\n",
       "                     12 x 64 x 256 x 256 \n",
       "Conv2d                                    57088      True      \n",
       "ELU                                                            \n",
       "GroupNorm                                 128        True      \n",
       "Dropout2d                                                      \n",
       "____________________________________________________________________________\n",
       "                     12 x 64 x 256 x 256 \n",
       "Conv2d                                    93952      True      \n",
       "ELU                                                            \n",
       "GroupNorm                                 128        True      \n",
       "Dropout2d                                                      \n",
       "____________________________________________________________________________\n",
       "                     12 x 64 x 256 x 256 \n",
       "Conv2d                                    130816     True      \n",
       "ELU                                                            \n",
       "GroupNorm                                 128        True      \n",
       "Dropout2d                                                      \n",
       "____________________________________________________________________________\n",
       "                     12 x 64 x 256 x 256 \n",
       "Conv2d                                    18688      True      \n",
       "ELU                                                            \n",
       "MaxPool2d                                                      \n",
       "____________________________________________________________________________\n",
       "                     12 x 96 x 128 x 128 \n",
       "Conv2d                                    55392      True      \n",
       "ELU                                                            \n",
       "GroupNorm                                 192        True      \n",
       "Dropout2d                                                      \n",
       "____________________________________________________________________________\n",
       "                     12 x 96 x 128 x 128 \n",
       "Conv2d                                    138336     True      \n",
       "ELU                                                            \n",
       "GroupNorm                                 192        True      \n",
       "Dropout2d                                                      \n",
       "____________________________________________________________________________\n",
       "                     12 x 96 x 128 x 128 \n",
       "Conv2d                                    221280     True      \n",
       "ELU                                                            \n",
       "GroupNorm                                 192        True      \n",
       "Dropout2d                                                      \n",
       "____________________________________________________________________________\n",
       "                     12 x 96 x 128 x 128 \n",
       "Conv2d                                    304224     True      \n",
       "ELU                                                            \n",
       "GroupNorm                                 192        True      \n",
       "Dropout2d                                                      \n",
       "____________________________________________________________________________\n",
       "                     12 x 96 x 128 x 128 \n",
       "Conv2d                                    43104      True      \n",
       "ELU                                                            \n",
       "MaxPool2d                                                      \n",
       "____________________________________________________________________________\n",
       "                     12 x 128 x 64 x 64  \n",
       "Conv2d                                    110720     True      \n",
       "ELU                                                            \n",
       "GroupNorm                                 256        True      \n",
       "Dropout2d                                                      \n",
       "____________________________________________________________________________\n",
       "                     12 x 128 x 64 x 64  \n",
       "Conv2d                                    258176     True      \n",
       "ELU                                                            \n",
       "GroupNorm                                 256        True      \n",
       "Dropout2d                                                      \n",
       "____________________________________________________________________________\n",
       "                     12 x 128 x 64 x 64  \n",
       "Conv2d                                    405632     True      \n",
       "ELU                                                            \n",
       "GroupNorm                                 256        True      \n",
       "Dropout2d                                                      \n",
       "____________________________________________________________________________\n",
       "                     12 x 128 x 64 x 64  \n",
       "Conv2d                                    553088     True      \n",
       "ELU                                                            \n",
       "GroupNorm                                 256        True      \n",
       "Dropout2d                                                      \n",
       "____________________________________________________________________________\n",
       "                     12 x 128 x 64 x 64  \n",
       "Conv2d                                    77952      True      \n",
       "ELU                                                            \n",
       "MaxPool2d                                                      \n",
       "Conv2d                                    147584     True      \n",
       "ELU                                                            \n",
       "GroupNorm                                 256        True      \n",
       "Dropout2d                                                      \n",
       "____________________________________________________________________________\n",
       "                     12 x 128 x 32 x 32  \n",
       "Conv2d                                    295040     True      \n",
       "ELU                                                            \n",
       "GroupNorm                                 256        True      \n",
       "Dropout2d                                                      \n",
       "____________________________________________________________________________\n",
       "                     12 x 128 x 32 x 32  \n",
       "Conv2d                                    442496     True      \n",
       "ELU                                                            \n",
       "GroupNorm                                 256        True      \n",
       "Dropout2d                                                      \n",
       "____________________________________________________________________________\n",
       "                     12 x 128 x 32 x 32  \n",
       "Conv2d                                    589952     True      \n",
       "ELU                                                            \n",
       "GroupNorm                                 256        True      \n",
       "Dropout2d                                                      \n",
       "____________________________________________________________________________\n",
       "                     12 x 128 x 32 x 32  \n",
       "Conv2d                                    82048      True      \n",
       "ELU                                                            \n",
       "MaxPool2d                                                      \n",
       "Conv2d                                    147584     True      \n",
       "ELU                                                            \n",
       "GroupNorm                                 256        True      \n",
       "Dropout2d                                                      \n",
       "____________________________________________________________________________\n",
       "                     12 x 128 x 16 x 16  \n",
       "Conv2d                                    295040     True      \n",
       "ELU                                                            \n",
       "GroupNorm                                 256        True      \n",
       "Dropout2d                                                      \n",
       "____________________________________________________________________________\n",
       "                     12 x 128 x 16 x 16  \n",
       "Conv2d                                    442496     True      \n",
       "ELU                                                            \n",
       "GroupNorm                                 256        True      \n",
       "Dropout2d                                                      \n",
       "____________________________________________________________________________\n",
       "                     12 x 128 x 16 x 16  \n",
       "Conv2d                                    589952     True      \n",
       "ELU                                                            \n",
       "GroupNorm                                 256        True      \n",
       "Dropout2d                                                      \n",
       "____________________________________________________________________________\n",
       "                     12 x 128 x 16 x 16  \n",
       "Conv2d                                    82048      True      \n",
       "ELU                                                            \n",
       "MaxPool2d                                                      \n",
       "Conv2d                                    147584     True      \n",
       "ELU                                                            \n",
       "GroupNorm                                 256        True      \n",
       "Dropout2d                                                      \n",
       "____________________________________________________________________________\n",
       "                     12 x 128 x 8 x 8    \n",
       "Conv2d                                    295040     True      \n",
       "ELU                                                            \n",
       "GroupNorm                                 256        True      \n",
       "Dropout2d                                                      \n",
       "____________________________________________________________________________\n",
       "                     12 x 128 x 8 x 8    \n",
       "Conv2d                                    442496     True      \n",
       "ELU                                                            \n",
       "GroupNorm                                 256        True      \n",
       "Dropout2d                                                      \n",
       "____________________________________________________________________________\n",
       "                     12 x 128 x 8 x 8    \n",
       "Conv2d                                    589952     True      \n",
       "ELU                                                            \n",
       "GroupNorm                                 256        True      \n",
       "Dropout2d                                                      \n",
       "____________________________________________________________________________\n",
       "                     12 x 128 x 8 x 8    \n",
       "Conv2d                                    82048      True      \n",
       "ELU                                                            \n",
       "MaxPool2d                                                      \n",
       "Conv2d                                    147584     True      \n",
       "ELU                                                            \n",
       "GroupNorm                                 256        True      \n",
       "Dropout2d                                                      \n",
       "____________________________________________________________________________\n",
       "                     12 x 128 x 4 x 4    \n",
       "Conv2d                                    295040     True      \n",
       "ELU                                                            \n",
       "GroupNorm                                 256        True      \n",
       "Dropout2d                                                      \n",
       "____________________________________________________________________________\n",
       "                     12 x 128 x 4 x 4    \n",
       "Conv2d                                    442496     True      \n",
       "ELU                                                            \n",
       "GroupNorm                                 256        True      \n",
       "Dropout2d                                                      \n",
       "____________________________________________________________________________\n",
       "                     12 x 128 x 4 x 4    \n",
       "Conv2d                                    589952     True      \n",
       "ELU                                                            \n",
       "GroupNorm                                 256        True      \n",
       "Dropout2d                                                      \n",
       "____________________________________________________________________________\n",
       "                     12 x 128 x 4 x 4    \n",
       "Conv2d                                    82048      True      \n",
       "ELU                                                            \n",
       "MaxPool2d                                                      \n",
       "Conv2d                                    147584     True      \n",
       "ELU                                                            \n",
       "GroupNorm                                 256        True      \n",
       "Dropout2d                                                      \n",
       "____________________________________________________________________________\n",
       "                     12 x 128 x 2 x 2    \n",
       "Conv2d                                    295040     True      \n",
       "ELU                                                            \n",
       "GroupNorm                                 256        True      \n",
       "Dropout2d                                                      \n",
       "____________________________________________________________________________\n",
       "                     12 x 128 x 2 x 2    \n",
       "Conv2d                                    442496     True      \n",
       "ELU                                                            \n",
       "GroupNorm                                 256        True      \n",
       "Dropout2d                                                      \n",
       "____________________________________________________________________________\n",
       "                     12 x 128 x 2 x 2    \n",
       "Conv2d                                    589952     True      \n",
       "ELU                                                            \n",
       "GroupNorm                                 256        True      \n",
       "Dropout2d                                                      \n",
       "____________________________________________________________________________\n",
       "                     12 x 128 x 2 x 2    \n",
       "Conv2d                                    82048      True      \n",
       "ELU                                                            \n",
       "Conv2d                                    147584     True      \n",
       "ELU                                                            \n",
       "GroupNorm                                 256        True      \n",
       "Dropout2d                                                      \n",
       "Linear                                    262656     True      \n",
       "Linear                                    262656     True      \n",
       "____________________________________________________________________________\n",
       "                     12 x 128 x 4 x 4    \n",
       "ConvTranspose2d                           147584     True      \n",
       "ELU                                                            \n",
       "____________________________________________________________________________\n",
       "                     12 x 128 x 4 x 4    \n",
       "Conv2d                                    295040     True      \n",
       "ELU                                                            \n",
       "GroupNorm                                 256        True      \n",
       "Dropout2d                                                      \n",
       "____________________________________________________________________________\n",
       "                     12 x 128 x 8 x 8    \n",
       "ConvTranspose2d                           147584     True      \n",
       "ELU                                                            \n",
       "____________________________________________________________________________\n",
       "                     12 x 128 x 8 x 8    \n",
       "Conv2d                                    295040     True      \n",
       "ELU                                                            \n",
       "GroupNorm                                 256        True      \n",
       "Dropout2d                                                      \n",
       "____________________________________________________________________________\n",
       "                     12 x 128 x 16 x 16  \n",
       "ConvTranspose2d                           147584     True      \n",
       "ELU                                                            \n",
       "____________________________________________________________________________\n",
       "                     12 x 128 x 16 x 16  \n",
       "Conv2d                                    295040     True      \n",
       "ELU                                                            \n",
       "GroupNorm                                 256        True      \n",
       "Dropout2d                                                      \n",
       "____________________________________________________________________________\n",
       "                     12 x 128 x 32 x 32  \n",
       "ConvTranspose2d                           147584     True      \n",
       "ELU                                                            \n",
       "____________________________________________________________________________\n",
       "                     12 x 128 x 32 x 32  \n",
       "Conv2d                                    295040     True      \n",
       "ELU                                                            \n",
       "GroupNorm                                 256        True      \n",
       "Dropout2d                                                      \n",
       "____________________________________________________________________________\n",
       "                     12 x 128 x 64 x 64  \n",
       "ConvTranspose2d                           147584     True      \n",
       "ELU                                                            \n",
       "____________________________________________________________________________\n",
       "                     12 x 128 x 64 x 64  \n",
       "Conv2d                                    295040     True      \n",
       "ELU                                                            \n",
       "GroupNorm                                 256        True      \n",
       "Dropout2d                                                      \n",
       "____________________________________________________________________________\n",
       "                     12 x 128 x 128 x 12 \n",
       "ConvTranspose2d                           147584     True      \n",
       "ELU                                                            \n",
       "____________________________________________________________________________\n",
       "                     12 x 128 x 128 x 12 \n",
       "Conv2d                                    258176     True      \n",
       "ELU                                                            \n",
       "GroupNorm                                 256        True      \n",
       "Dropout2d                                                      \n",
       "____________________________________________________________________________\n",
       "                     12 x 128 x 256 x 25 \n",
       "ConvTranspose2d                           147584     True      \n",
       "ELU                                                            \n",
       "____________________________________________________________________________\n",
       "                     12 x 128 x 256 x 25 \n",
       "Conv2d                                    221312     True      \n",
       "ELU                                                            \n",
       "GroupNorm                                 256        True      \n",
       "Dropout2d                                                      \n",
       "Conv2d                                    147584     True      \n",
       "____________________________________________________________________________\n",
       "\n",
       "Total params: 14,092,000\n",
       "Total trainable params: 14,092,000\n",
       "Total non-trainable params: 0\n",
       "\n",
       "Optimizer used: <function Adam at 0x7fc9b67a0310>\n",
       "Loss function: <function VUNetLoss2 at 0x7fc9b8c7fc10>\n",
       "\n",
       "Callbacks:\n",
       "  - TrainEvalCallback\n",
       "  - Recorder\n",
       "  - ProgressCallback\n",
       "  - CSVLogger"
      ]
     },
     "execution_count": 11,
     "metadata": {},
     "output_type": "execute_result"
    }
   ],
   "source": [
    "learn.summary()"
   ]
  },
  {
   "cell_type": "code",
   "execution_count": 9,
   "metadata": {
    "scrolled": true
   },
   "outputs": [],
   "source": [
    "#lr_min,lr_steep = learn.lr_find()\n",
    "#print(f\"Minimum/10: {lr_min:.2e}, steepest point: {lr_steep:.2e}\")"
   ]
  },
  {
   "cell_type": "code",
   "execution_count": 13,
   "metadata": {},
   "outputs": [],
   "source": [
    "learn.fit_one_cycle(2, lr_max=2e-04)"
   ]
  },
  {
   "cell_type": "code",
   "execution_count": 10,
   "metadata": {},
   "outputs": [
    {
     "data": {
      "text/plain": [
       "Path('/storage/weather4cast/models/Comb_2.pth')"
      ]
     },
     "execution_count": 10,
     "metadata": {},
     "output_type": "execute_result"
    }
   ],
   "source": [
    "learn.save('Comb_2')"
   ]
  },
  {
   "cell_type": "code",
   "execution_count": null,
   "metadata": {},
   "outputs": [],
   "source": []
  },
  {
   "cell_type": "code",
   "execution_count": 9,
   "metadata": {},
   "outputs": [
    {
     "data": {
      "text/plain": [
       "<fastai.learner.Learner at 0x7efe5d895dc0>"
      ]
     },
     "execution_count": 9,
     "metadata": {},
     "output_type": "execute_result"
    }
   ],
   "source": [
    "#learn.load('Comb_2')"
   ]
  },
  {
   "cell_type": "code",
   "execution_count": 10,
   "metadata": {},
   "outputs": [
    {
     "data": {
      "text/html": [
       "<table border=\"1\" class=\"dataframe\">\n",
       "  <thead>\n",
       "    <tr style=\"text-align: left;\">\n",
       "      <th>epoch</th>\n",
       "      <th>train_loss</th>\n",
       "      <th>valid_loss</th>\n",
       "      <th>valid_leaderboard</th>\n",
       "      <th>valid_leaderboard2</th>\n",
       "      <th>time</th>\n",
       "    </tr>\n",
       "  </thead>\n",
       "  <tbody>\n",
       "    <tr>\n",
       "      <td>0</td>\n",
       "      <td>0.441131</td>\n",
       "      <td>0.426516</td>\n",
       "      <td>0.701760</td>\n",
       "      <td>0.426097</td>\n",
       "      <td>2:27:41</td>\n",
       "    </tr>\n",
       "    <tr>\n",
       "      <td>1</td>\n",
       "      <td>0.426014</td>\n",
       "      <td>0.413974</td>\n",
       "      <td>0.693612</td>\n",
       "      <td>0.413958</td>\n",
       "      <td>2:52:13</td>\n",
       "    </tr>\n",
       "  </tbody>\n",
       "</table>"
      ],
      "text/plain": [
       "<IPython.core.display.HTML object>"
      ]
     },
     "metadata": {},
     "output_type": "display_data"
    }
   ],
   "source": [
    "learn.fit_flat_cos(2, lr=2e-04, pct_start=0)"
   ]
  },
  {
   "cell_type": "code",
   "execution_count": 11,
   "metadata": {},
   "outputs": [
    {
     "data": {
      "text/plain": [
       "Path('/storage/weather4cast/models/Comb_4.pth')"
      ]
     },
     "execution_count": 11,
     "metadata": {},
     "output_type": "execute_result"
    }
   ],
   "source": [
    "learn.save('Comb_4')"
   ]
  },
  {
   "cell_type": "code",
   "execution_count": null,
   "metadata": {},
   "outputs": [],
   "source": []
  },
  {
   "cell_type": "code",
   "execution_count": 9,
   "metadata": {},
   "outputs": [
    {
     "data": {
      "text/plain": [
       "<fastai.learner.Learner at 0x7f097076cdf0>"
      ]
     },
     "execution_count": 9,
     "metadata": {},
     "output_type": "execute_result"
    }
   ],
   "source": [
    "#learn.load('Comb_4')"
   ]
  },
  {
   "cell_type": "code",
   "execution_count": 11,
   "metadata": {},
   "outputs": [
    {
     "data": {
      "text/html": [
       "<table border=\"1\" class=\"dataframe\">\n",
       "  <thead>\n",
       "    <tr style=\"text-align: left;\">\n",
       "      <th>epoch</th>\n",
       "      <th>train_loss</th>\n",
       "      <th>valid_loss</th>\n",
       "      <th>valid_leaderboard</th>\n",
       "      <th>valid_leaderboard2</th>\n",
       "      <th>time</th>\n",
       "    </tr>\n",
       "  </thead>\n",
       "  <tbody>\n",
       "    <tr>\n",
       "      <td>0</td>\n",
       "      <td>0.397676</td>\n",
       "      <td>0.414760</td>\n",
       "      <td>0.698782</td>\n",
       "      <td>0.414678</td>\n",
       "      <td>2:02:00</td>\n",
       "    </tr>\n",
       "    <tr>\n",
       "      <td>1</td>\n",
       "      <td>0.393578</td>\n",
       "      <td>0.403136</td>\n",
       "      <td>0.684215</td>\n",
       "      <td>0.403118</td>\n",
       "      <td>2:26:25</td>\n",
       "    </tr>\n",
       "  </tbody>\n",
       "</table>"
      ],
      "text/plain": [
       "<IPython.core.display.HTML object>"
      ]
     },
     "metadata": {},
     "output_type": "display_data"
    }
   ],
   "source": [
    "learn.fit_flat_cos(2, lr=2e-04, pct_start=0)"
   ]
  },
  {
   "cell_type": "code",
   "execution_count": 12,
   "metadata": {},
   "outputs": [
    {
     "data": {
      "text/plain": [
       "Path('/storage/weather4cast/models/Comb_6.pth')"
      ]
     },
     "execution_count": 12,
     "metadata": {},
     "output_type": "execute_result"
    }
   ],
   "source": [
    "learn.save('Comb_6')"
   ]
  },
  {
   "cell_type": "code",
   "execution_count": null,
   "metadata": {},
   "outputs": [],
   "source": []
  },
  {
   "cell_type": "code",
   "execution_count": 9,
   "metadata": {},
   "outputs": [
    {
     "data": {
      "text/plain": [
       "<fastai.learner.Learner at 0x7fe981060f70>"
      ]
     },
     "execution_count": 9,
     "metadata": {},
     "output_type": "execute_result"
    }
   ],
   "source": [
    "#learn.load('Comb_6')"
   ]
  },
  {
   "cell_type": "code",
   "execution_count": 10,
   "metadata": {},
   "outputs": [
    {
     "data": {
      "text/html": [
       "<table border=\"1\" class=\"dataframe\">\n",
       "  <thead>\n",
       "    <tr style=\"text-align: left;\">\n",
       "      <th>epoch</th>\n",
       "      <th>train_loss</th>\n",
       "      <th>valid_loss</th>\n",
       "      <th>valid_leaderboard</th>\n",
       "      <th>valid_leaderboard2</th>\n",
       "      <th>time</th>\n",
       "    </tr>\n",
       "  </thead>\n",
       "  <tbody>\n",
       "    <tr>\n",
       "      <td>0</td>\n",
       "      <td>0.392610</td>\n",
       "      <td>0.409428</td>\n",
       "      <td>0.687157</td>\n",
       "      <td>0.409365</td>\n",
       "      <td>2:04:13</td>\n",
       "    </tr>\n",
       "    <tr>\n",
       "      <td>1</td>\n",
       "      <td>0.384217</td>\n",
       "      <td>0.398677</td>\n",
       "      <td>0.680336</td>\n",
       "      <td>0.398660</td>\n",
       "      <td>2:05:42</td>\n",
       "    </tr>\n",
       "  </tbody>\n",
       "</table>"
      ],
      "text/plain": [
       "<IPython.core.display.HTML object>"
      ]
     },
     "metadata": {},
     "output_type": "display_data"
    }
   ],
   "source": [
    "learn.fit_flat_cos(2, lr=2e-04, pct_start=0)"
   ]
  },
  {
   "cell_type": "code",
   "execution_count": 11,
   "metadata": {},
   "outputs": [
    {
     "data": {
      "text/plain": [
       "Path('/storage/weather4cast/models/Comb_8.pth')"
      ]
     },
     "execution_count": 11,
     "metadata": {},
     "output_type": "execute_result"
    }
   ],
   "source": [
    "learn.save('Comb_8')"
   ]
  },
  {
   "cell_type": "code",
   "execution_count": null,
   "metadata": {},
   "outputs": [],
   "source": []
  },
  {
   "cell_type": "code",
   "execution_count": 9,
   "metadata": {},
   "outputs": [
    {
     "data": {
      "text/plain": [
       "<fastai.learner.Learner at 0x7fab244dd160>"
      ]
     },
     "execution_count": 9,
     "metadata": {},
     "output_type": "execute_result"
    }
   ],
   "source": [
    "#learn.load('Comb_8')"
   ]
  },
  {
   "cell_type": "code",
   "execution_count": 10,
   "metadata": {},
   "outputs": [
    {
     "data": {
      "text/html": [
       "<table border=\"1\" class=\"dataframe\">\n",
       "  <thead>\n",
       "    <tr style=\"text-align: left;\">\n",
       "      <th>epoch</th>\n",
       "      <th>train_loss</th>\n",
       "      <th>valid_loss</th>\n",
       "      <th>valid_leaderboard</th>\n",
       "      <th>valid_leaderboard2</th>\n",
       "      <th>time</th>\n",
       "    </tr>\n",
       "  </thead>\n",
       "  <tbody>\n",
       "    <tr>\n",
       "      <td>0</td>\n",
       "      <td>0.367376</td>\n",
       "      <td>0.400800</td>\n",
       "      <td>0.680977</td>\n",
       "      <td>0.400765</td>\n",
       "      <td>2:53:45</td>\n",
       "    </tr>\n",
       "    <tr>\n",
       "      <td>1</td>\n",
       "      <td>0.372932</td>\n",
       "      <td>0.395273</td>\n",
       "      <td>0.678566</td>\n",
       "      <td>0.395255</td>\n",
       "      <td>3:06:35</td>\n",
       "    </tr>\n",
       "  </tbody>\n",
       "</table>"
      ],
      "text/plain": [
       "<IPython.core.display.HTML object>"
      ]
     },
     "metadata": {},
     "output_type": "display_data"
    }
   ],
   "source": [
    "learn.fit_flat_cos(2, lr=2e-04, pct_start=0)"
   ]
  },
  {
   "cell_type": "code",
   "execution_count": 11,
   "metadata": {},
   "outputs": [
    {
     "data": {
      "text/plain": [
       "Path('/storage/weather4cast/models/Comb_10.pth')"
      ]
     },
     "execution_count": 11,
     "metadata": {},
     "output_type": "execute_result"
    }
   ],
   "source": [
    "learn.save('Comb_10')"
   ]
  },
  {
   "cell_type": "code",
   "execution_count": null,
   "metadata": {},
   "outputs": [],
   "source": []
  },
  {
   "cell_type": "code",
   "execution_count": null,
   "metadata": {},
   "outputs": [],
   "source": [
    "#learn.load('Comb_10')"
   ]
  },
  {
   "cell_type": "code",
   "execution_count": 13,
   "metadata": {},
   "outputs": [
    {
     "data": {
      "text/html": [
       "<table border=\"1\" class=\"dataframe\">\n",
       "  <thead>\n",
       "    <tr style=\"text-align: left;\">\n",
       "      <th>epoch</th>\n",
       "      <th>train_loss</th>\n",
       "      <th>valid_loss</th>\n",
       "      <th>valid_leaderboard</th>\n",
       "      <th>valid_leaderboard2</th>\n",
       "      <th>time</th>\n",
       "    </tr>\n",
       "  </thead>\n",
       "  <tbody>\n",
       "    <tr>\n",
       "      <td>0</td>\n",
       "      <td>0.364000</td>\n",
       "      <td>0.400641</td>\n",
       "      <td>0.682575</td>\n",
       "      <td>0.400606</td>\n",
       "      <td>3:10:17</td>\n",
       "    </tr>\n",
       "    <tr>\n",
       "      <td>1</td>\n",
       "      <td>0.370470</td>\n",
       "      <td>0.391266</td>\n",
       "      <td>0.676537</td>\n",
       "      <td>0.391249</td>\n",
       "      <td>3:10:44</td>\n",
       "    </tr>\n",
       "  </tbody>\n",
       "</table>"
      ],
      "text/plain": [
       "<IPython.core.display.HTML object>"
      ]
     },
     "metadata": {},
     "output_type": "display_data"
    }
   ],
   "source": [
    "learn.fit_flat_cos(2, lr=2e-04, pct_start=0)"
   ]
  },
  {
   "cell_type": "code",
   "execution_count": 14,
   "metadata": {},
   "outputs": [
    {
     "data": {
      "text/plain": [
       "Path('/storage/weather4cast/models/Comb_12.pth')"
      ]
     },
     "execution_count": 14,
     "metadata": {},
     "output_type": "execute_result"
    }
   ],
   "source": [
    "learn.save('Comb_12')"
   ]
  },
  {
   "cell_type": "code",
   "execution_count": null,
   "metadata": {},
   "outputs": [],
   "source": []
  },
  {
   "cell_type": "markdown",
   "metadata": {},
   "source": [
    "# 3. Train with Validation Data"
   ]
  },
  {
   "cell_type": "code",
   "execution_count": null,
   "metadata": {},
   "outputs": [],
   "source": [
    "train, valid = get_datasets(region_ids, train_on_validation=True)"
   ]
  },
  {
   "cell_type": "code",
   "execution_count": null,
   "metadata": {},
   "outputs": [],
   "source": [
    "train_dl = FastDataLoader(dataset=train,\n",
    "                          bs=bs,\n",
    "                          num_workers=num_workers,\n",
    "                          pin_memory=True,\n",
    "                          shuffle=True,\n",
    "                          device=torch.device(device))\n",
    "valid_dl = FastDataLoader(dataset=valid,\n",
    "                          bs=bs,\n",
    "                          num_workers=num_workers,\n",
    "                          pin_memory=True,\n",
    "                          shuffle=True,\n",
    "                          device=torch.device(device))\n",
    "data = DataLoaders(train_dl, valid_dl, device=torch.device(device))"
   ]
  },
  {
   "cell_type": "code",
   "execution_count": null,
   "metadata": {},
   "outputs": [],
   "source": [
    "learn = Learner(\n",
    "    data, \n",
    "    Model.to(device), \n",
    "    loss_func=VUNetLoss2, metrics=[valid_leaderboard, valid_leaderboard2], \n",
    "    model_dir=folder_to_save_models, cbs=CSVLogger(append=True))"
   ]
  },
  {
   "cell_type": "code",
   "execution_count": null,
   "metadata": {},
   "outputs": [],
   "source": [
    "learn.summary()"
   ]
  },
  {
   "cell_type": "code",
   "execution_count": 11,
   "metadata": {},
   "outputs": [
    {
     "data": {
      "text/plain": [
       "<fastai.learner.Learner at 0x7f8d702bc7c0>"
      ]
     },
     "execution_count": 11,
     "metadata": {},
     "output_type": "execute_result"
    }
   ],
   "source": [
    "#learn.load('Comb_12')"
   ]
  },
  {
   "cell_type": "code",
   "execution_count": 12,
   "metadata": {},
   "outputs": [
    {
     "data": {
      "text/html": [
       "<table border=\"1\" class=\"dataframe\">\n",
       "  <thead>\n",
       "    <tr style=\"text-align: left;\">\n",
       "      <th>epoch</th>\n",
       "      <th>train_loss</th>\n",
       "      <th>valid_loss</th>\n",
       "      <th>valid_leaderboard</th>\n",
       "      <th>valid_leaderboard2</th>\n",
       "      <th>time</th>\n",
       "    </tr>\n",
       "  </thead>\n",
       "  <tbody>\n",
       "    <tr>\n",
       "      <td>0</td>\n",
       "      <td>0.369952</td>\n",
       "      <td>0.378295</td>\n",
       "      <td>0.667222</td>\n",
       "      <td>0.378240</td>\n",
       "      <td>2:03:36</td>\n",
       "    </tr>\n",
       "    <tr>\n",
       "      <td>1</td>\n",
       "      <td>0.358378</td>\n",
       "      <td>0.367179</td>\n",
       "      <td>0.653086</td>\n",
       "      <td>0.367161</td>\n",
       "      <td>2:03:15</td>\n",
       "    </tr>\n",
       "  </tbody>\n",
       "</table>"
      ],
      "text/plain": [
       "<IPython.core.display.HTML object>"
      ]
     },
     "metadata": {},
     "output_type": "display_data"
    }
   ],
   "source": [
    "learn.fit_flat_cos(2, lr=2e-04, pct_start=0)"
   ]
  },
  {
   "cell_type": "code",
   "execution_count": 13,
   "metadata": {},
   "outputs": [
    {
     "data": {
      "text/plain": [
       "Path('/storage/weather4cast/models/Lomb_14.pth')"
      ]
     },
     "execution_count": 13,
     "metadata": {},
     "output_type": "execute_result"
    }
   ],
   "source": [
    "learn.save('Lomb_14')"
   ]
  }
 ],
 "metadata": {
  "kernelspec": {
   "display_name": "Python 3",
   "language": "python",
   "name": "python3"
  },
  "language_info": {
   "codemirror_mode": {
    "name": "ipython",
    "version": 3
   },
   "file_extension": ".py",
   "mimetype": "text/x-python",
   "name": "python",
   "nbconvert_exporter": "python",
   "pygments_lexer": "ipython3",
   "version": "3.8.10"
  }
 },
 "nbformat": 4,
 "nbformat_minor": 4
}
